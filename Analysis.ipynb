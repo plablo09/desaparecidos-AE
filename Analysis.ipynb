{
 "cells": [
  {
   "cell_type": "markdown",
   "metadata": {},
   "source": [
    "Leemos los datos del csv"
   ]
  },
  {
   "cell_type": "code",
   "execution_count": 1,
   "metadata": {
    "collapsed": false
   },
   "outputs": [],
   "source": [
    "import sys\n",
    "reload(sys)\n",
    "sys.setdefaultencoding(\"utf-8\")"
   ]
  },
  {
   "cell_type": "code",
   "execution_count": 2,
   "metadata": {
    "collapsed": false
   },
   "outputs": [],
   "source": [
    "import pandas as pd\n",
    "df = pd.read_csv('data/desaparecidos.csv',header=0,names=['estado','municipio','cvegeo','year','total','tasa'], encoding='utf-8')"
   ]
  },
  {
   "cell_type": "markdown",
   "metadata": {},
   "source": [
    "Agrupamos y quitamos los índices de las columnas estado y year para poder usarlas en el pivot:"
   ]
  },
  {
   "cell_type": "code",
   "execution_count": 3,
   "metadata": {
    "collapsed": false
   },
   "outputs": [
    {
     "data": {
      "text/html": [
       "<div style=\"max-height:1000px;max-width:1500px;overflow:auto;\">\n",
       "<table border=\"1\" class=\"dataframe\">\n",
       "  <thead>\n",
       "    <tr style=\"text-align: right;\">\n",
       "      <th></th>\n",
       "      <th>estado</th>\n",
       "      <th>year</th>\n",
       "      <th>cvegeo</th>\n",
       "      <th>total</th>\n",
       "      <th>tasa</th>\n",
       "    </tr>\n",
       "  </thead>\n",
       "  <tbody>\n",
       "    <tr>\n",
       "      <th>0</th>\n",
       "      <td> Aguascalientes</td>\n",
       "      <td> 2006</td>\n",
       "      <td> 11066</td>\n",
       "      <td>  0</td>\n",
       "      <td>  0.000000</td>\n",
       "    </tr>\n",
       "    <tr>\n",
       "      <th>1</th>\n",
       "      <td> Aguascalientes</td>\n",
       "      <td> 2007</td>\n",
       "      <td> 11066</td>\n",
       "      <td> 25</td>\n",
       "      <td> 24.059914</td>\n",
       "    </tr>\n",
       "    <tr>\n",
       "      <th>2</th>\n",
       "      <td> Aguascalientes</td>\n",
       "      <td> 2008</td>\n",
       "      <td> 11066</td>\n",
       "      <td>  7</td>\n",
       "      <td>  3.226498</td>\n",
       "    </tr>\n",
       "    <tr>\n",
       "      <th>3</th>\n",
       "      <td> Aguascalientes</td>\n",
       "      <td> 2009</td>\n",
       "      <td> 11066</td>\n",
       "      <td> 20</td>\n",
       "      <td>  3.495144</td>\n",
       "    </tr>\n",
       "    <tr>\n",
       "      <th>4</th>\n",
       "      <td> Aguascalientes</td>\n",
       "      <td> 2010</td>\n",
       "      <td> 11066</td>\n",
       "      <td> 18</td>\n",
       "      <td>  7.733581</td>\n",
       "    </tr>\n",
       "  </tbody>\n",
       "</table>\n",
       "</div>"
      ],
      "text/plain": [
       "           estado  year  cvegeo  total       tasa\n",
       "0  Aguascalientes  2006   11066      0   0.000000\n",
       "1  Aguascalientes  2007   11066     25  24.059914\n",
       "2  Aguascalientes  2008   11066      7   3.226498\n",
       "3  Aguascalientes  2009   11066     20   3.495144\n",
       "4  Aguascalientes  2010   11066     18   7.733581"
      ]
     },
     "execution_count": 3,
     "metadata": {},
     "output_type": "execute_result"
    }
   ],
   "source": [
    "df.groupby(['estado','year']).sum().reset_index('year').reset_index('estado').head()"
   ]
  },
  {
   "cell_type": "markdown",
   "metadata": {},
   "source": [
    "Creamos la pivot table para tener los años en columnas:"
   ]
  },
  {
   "cell_type": "code",
   "execution_count": 4,
   "metadata": {
    "collapsed": false
   },
   "outputs": [
    {
     "data": {
      "text/html": [
       "<div style=\"max-height:1000px;max-width:1500px;overflow:auto;\">\n",
       "<table border=\"1\" class=\"dataframe\">\n",
       "  <thead>\n",
       "    <tr style=\"text-align: right;\">\n",
       "      <th>year</th>\n",
       "      <th>2006</th>\n",
       "      <th>2007</th>\n",
       "      <th>2008</th>\n",
       "      <th>2009</th>\n",
       "      <th>2010</th>\n",
       "      <th>2011</th>\n",
       "      <th>2012</th>\n",
       "      <th>2013</th>\n",
       "      <th>2014</th>\n",
       "    </tr>\n",
       "    <tr>\n",
       "      <th>estado</th>\n",
       "      <th></th>\n",
       "      <th></th>\n",
       "      <th></th>\n",
       "      <th></th>\n",
       "      <th></th>\n",
       "      <th></th>\n",
       "      <th></th>\n",
       "      <th></th>\n",
       "      <th></th>\n",
       "    </tr>\n",
       "  </thead>\n",
       "  <tbody>\n",
       "    <tr>\n",
       "      <th>Tamaulipas</th>\n",
       "      <td> 15</td>\n",
       "      <td> 76</td>\n",
       "      <td> 66</td>\n",
       "      <td> 207</td>\n",
       "      <td> 901</td>\n",
       "      <td> 1227</td>\n",
       "      <td> 1071</td>\n",
       "      <td> 761</td>\n",
       "      <td> 831</td>\n",
       "    </tr>\n",
       "    <tr>\n",
       "      <th>Tlaxcala</th>\n",
       "      <td>  0</td>\n",
       "      <td>  0</td>\n",
       "      <td>  0</td>\n",
       "      <td>   2</td>\n",
       "      <td>   0</td>\n",
       "      <td>    1</td>\n",
       "      <td>    2</td>\n",
       "      <td>   6</td>\n",
       "      <td>   3</td>\n",
       "    </tr>\n",
       "    <tr>\n",
       "      <th>Veracruz de Ignacio de la Llave</th>\n",
       "      <td>  2</td>\n",
       "      <td>  3</td>\n",
       "      <td>  2</td>\n",
       "      <td>   1</td>\n",
       "      <td>  22</td>\n",
       "      <td>   59</td>\n",
       "      <td>   45</td>\n",
       "      <td> 115</td>\n",
       "      <td> 211</td>\n",
       "    </tr>\n",
       "    <tr>\n",
       "      <th>Yucatán</th>\n",
       "      <td>  0</td>\n",
       "      <td>  1</td>\n",
       "      <td>  1</td>\n",
       "      <td>   2</td>\n",
       "      <td>   4</td>\n",
       "      <td>    6</td>\n",
       "      <td>   10</td>\n",
       "      <td>  30</td>\n",
       "      <td>  29</td>\n",
       "    </tr>\n",
       "    <tr>\n",
       "      <th>Zacatecas</th>\n",
       "      <td>  0</td>\n",
       "      <td>  1</td>\n",
       "      <td>  6</td>\n",
       "      <td>  24</td>\n",
       "      <td>  30</td>\n",
       "      <td>   34</td>\n",
       "      <td>   16</td>\n",
       "      <td>  46</td>\n",
       "      <td>  32</td>\n",
       "    </tr>\n",
       "  </tbody>\n",
       "</table>\n",
       "</div>"
      ],
      "text/plain": [
       "year                             2006  2007  2008  2009  2010  2011  2012  \\\n",
       "estado                                                                      \n",
       "Tamaulipas                         15    76    66   207   901  1227  1071   \n",
       "Tlaxcala                            0     0     0     2     0     1     2   \n",
       "Veracruz de Ignacio de la Llave     2     3     2     1    22    59    45   \n",
       "Yucatán                             0     1     1     2     4     6    10   \n",
       "Zacatecas                           0     1     6    24    30    34    16   \n",
       "\n",
       "year                             2013  2014  \n",
       "estado                                       \n",
       "Tamaulipas                        761   831  \n",
       "Tlaxcala                            6     3  \n",
       "Veracruz de Ignacio de la Llave   115   211  \n",
       "Yucatán                            30    29  \n",
       "Zacatecas                          46    32  "
      ]
     },
     "execution_count": 4,
     "metadata": {},
     "output_type": "execute_result"
    }
   ],
   "source": [
    "tmp = df.groupby(['estado','year']).sum().reset_index('year').reset_index('estado')\n",
    "estado_tiempo = tmp.pivot(index='estado',columns='year',values='total')\n",
    "estado_tiempo.tail()"
   ]
  },
  {
   "cell_type": "markdown",
   "metadata": {},
   "source": [
    "En la maniobra perdimos las claves cvegeo que luego vamos a necesitar para unirlo a las geometrías. Recuperémoslas:"
   ]
  },
  {
   "cell_type": "code",
   "execution_count": 5,
   "metadata": {
    "collapsed": false
   },
   "outputs": [
    {
     "data": {
      "text/html": [
       "<div style=\"max-height:1000px;max-width:1500px;overflow:auto;\">\n",
       "<table border=\"1\" class=\"dataframe\">\n",
       "  <thead>\n",
       "    <tr style=\"text-align: right;\">\n",
       "      <th></th>\n",
       "      <th>cvegeo</th>\n",
       "    </tr>\n",
       "    <tr>\n",
       "      <th>estado</th>\n",
       "      <th></th>\n",
       "    </tr>\n",
       "  </thead>\n",
       "  <tbody>\n",
       "    <tr>\n",
       "      <th>Tamaulipas</th>\n",
       "      <td> 28001</td>\n",
       "    </tr>\n",
       "    <tr>\n",
       "      <th>Tlaxcala</th>\n",
       "      <td> 29001</td>\n",
       "    </tr>\n",
       "    <tr>\n",
       "      <th>Veracruz de Ignacio de la Llave</th>\n",
       "      <td> 30001</td>\n",
       "    </tr>\n",
       "    <tr>\n",
       "      <th>Yucatán</th>\n",
       "      <td> 31001</td>\n",
       "    </tr>\n",
       "    <tr>\n",
       "      <th>Zacatecas</th>\n",
       "      <td> 32001</td>\n",
       "    </tr>\n",
       "  </tbody>\n",
       "</table>\n",
       "</div>"
      ],
      "text/plain": [
       "                                 cvegeo\n",
       "estado                                 \n",
       "Tamaulipas                        28001\n",
       "Tlaxcala                          29001\n",
       "Veracruz de Ignacio de la Llave   30001\n",
       "Yucatán                           31001\n",
       "Zacatecas                         32001"
      ]
     },
     "execution_count": 5,
     "metadata": {},
     "output_type": "execute_result"
    }
   ],
   "source": [
    "cve_estado = df[['estado','cvegeo']].groupby('estado').first()\n",
    "cve_estado.tail()"
   ]
  },
  {
   "cell_type": "markdown",
   "metadata": {},
   "source": [
    "Además tenemos que reindexar las tablas para poder usar los valores de las columnas 'estado' como llaves en la unión:"
   ]
  },
  {
   "cell_type": "code",
   "execution_count": 6,
   "metadata": {
    "collapsed": true
   },
   "outputs": [],
   "source": [
    "cve_estado = cve_estado.reset_index('estado')\n",
    "estado_tiempo = estado_tiempo.reset_index('estado')"
   ]
  },
  {
   "cell_type": "markdown",
   "metadata": {},
   "source": [
    "Ahora si unimos:"
   ]
  },
  {
   "cell_type": "code",
   "execution_count": 7,
   "metadata": {
    "collapsed": false
   },
   "outputs": [
    {
     "data": {
      "text/html": [
       "<div style=\"max-height:1000px;max-width:1500px;overflow:auto;\">\n",
       "<table border=\"1\" class=\"dataframe\">\n",
       "  <thead>\n",
       "    <tr style=\"text-align: right;\">\n",
       "      <th></th>\n",
       "      <th>estado</th>\n",
       "      <th>cvegeo</th>\n",
       "      <th>2006</th>\n",
       "      <th>2007</th>\n",
       "      <th>2008</th>\n",
       "      <th>2009</th>\n",
       "      <th>2010</th>\n",
       "      <th>2011</th>\n",
       "      <th>2012</th>\n",
       "      <th>2013</th>\n",
       "      <th>2014</th>\n",
       "    </tr>\n",
       "  </thead>\n",
       "  <tbody>\n",
       "    <tr>\n",
       "      <th>0</th>\n",
       "      <td>      Aguascalientes</td>\n",
       "      <td> 1001</td>\n",
       "      <td> 0</td>\n",
       "      <td> 25</td>\n",
       "      <td>  7</td>\n",
       "      <td> 20</td>\n",
       "      <td> 18</td>\n",
       "      <td> 30</td>\n",
       "      <td>  14</td>\n",
       "      <td>  15</td>\n",
       "      <td>  62</td>\n",
       "    </tr>\n",
       "    <tr>\n",
       "      <th>1</th>\n",
       "      <td>     Baja California</td>\n",
       "      <td> 2001</td>\n",
       "      <td> 0</td>\n",
       "      <td>  7</td>\n",
       "      <td> 25</td>\n",
       "      <td> 11</td>\n",
       "      <td>  8</td>\n",
       "      <td> 19</td>\n",
       "      <td> 128</td>\n",
       "      <td> 177</td>\n",
       "      <td> 381</td>\n",
       "    </tr>\n",
       "    <tr>\n",
       "      <th>2</th>\n",
       "      <td> Baja California Sur</td>\n",
       "      <td> 3001</td>\n",
       "      <td> 0</td>\n",
       "      <td>  0</td>\n",
       "      <td>  2</td>\n",
       "      <td>  1</td>\n",
       "      <td>  3</td>\n",
       "      <td>  2</td>\n",
       "      <td>   3</td>\n",
       "      <td>   8</td>\n",
       "      <td>   3</td>\n",
       "    </tr>\n",
       "    <tr>\n",
       "      <th>3</th>\n",
       "      <td>            Campeche</td>\n",
       "      <td> 4001</td>\n",
       "      <td> 0</td>\n",
       "      <td>  0</td>\n",
       "      <td>  5</td>\n",
       "      <td>  0</td>\n",
       "      <td>  1</td>\n",
       "      <td>  0</td>\n",
       "      <td>   0</td>\n",
       "      <td>  10</td>\n",
       "      <td>  59</td>\n",
       "    </tr>\n",
       "    <tr>\n",
       "      <th>4</th>\n",
       "      <td>             Chiapas</td>\n",
       "      <td> 7001</td>\n",
       "      <td> 0</td>\n",
       "      <td>  0</td>\n",
       "      <td>  0</td>\n",
       "      <td>  5</td>\n",
       "      <td>  6</td>\n",
       "      <td>  9</td>\n",
       "      <td>  12</td>\n",
       "      <td>  31</td>\n",
       "      <td>  41</td>\n",
       "    </tr>\n",
       "  </tbody>\n",
       "</table>\n",
       "</div>"
      ],
      "text/plain": [
       "                estado  cvegeo  2006  2007  2008  2009  2010  2011  2012  \\\n",
       "0       Aguascalientes    1001     0    25     7    20    18    30    14   \n",
       "1      Baja California    2001     0     7    25    11     8    19   128   \n",
       "2  Baja California Sur    3001     0     0     2     1     3     2     3   \n",
       "3             Campeche    4001     0     0     5     0     1     0     0   \n",
       "4              Chiapas    7001     0     0     0     5     6     9    12   \n",
       "\n",
       "   2013  2014  \n",
       "0    15    62  \n",
       "1   177   381  \n",
       "2     8     3  \n",
       "3    10    59  \n",
       "4    31    41  "
      ]
     },
     "execution_count": 7,
     "metadata": {},
     "output_type": "execute_result"
    }
   ],
   "source": [
    "estado_tiempo = pd.merge(cve_estado,estado_tiempo, on='estado')\n",
    "estado_tiempo.head()"
   ]
  },
  {
   "cell_type": "markdown",
   "metadata": {},
   "source": [
    "Ahora leemos el shapefile con las geometrías de los estados:"
   ]
  },
  {
   "cell_type": "code",
   "execution_count": 8,
   "metadata": {
    "collapsed": false
   },
   "outputs": [
    {
     "data": {
      "text/plain": [
       "Index([u'CVEGEO', u'NOMBRE', u'POB1', u'geometry'], dtype='object')"
      ]
     },
     "execution_count": 8,
     "metadata": {},
     "output_type": "execute_result"
    }
   ],
   "source": [
    "from geopandas import GeoDataFrame\n",
    "gf = GeoDataFrame.from_file('data/estados.shp', encoding='utf-8')\n",
    "gf.columns"
   ]
  },
  {
   "cell_type": "markdown",
   "metadata": {},
   "source": [
    "Trístemente las cvegeo no coinciden, tendremos que intentar unir por nombre. \n",
    "Nos quedamos con las columnas necesarias del shape y renombramos la columna nombre para usarla como llave común:"
   ]
  },
  {
   "cell_type": "code",
   "execution_count": 9,
   "metadata": {
    "collapsed": false
   },
   "outputs": [
    {
     "data": {
      "text/plain": [
       "Index([u'estado', u'POB1', u'geometry'], dtype='object')"
      ]
     },
     "execution_count": 9,
     "metadata": {},
     "output_type": "execute_result"
    }
   ],
   "source": [
    "gf = gf[['NOMBRE','POB1','geometry']]\n",
    "gf = gf.rename(columns = {'NOMBRE':'estado'})\n",
    "gf.columns"
   ]
  },
  {
   "cell_type": "markdown",
   "metadata": {},
   "source": [
    "Unimos los dos conjuntos de datos y lo casteamos a GeoDataFrame:"
   ]
  },
  {
   "cell_type": "code",
   "execution_count": 12,
   "metadata": {
    "collapsed": false,
    "scrolled": true
   },
   "outputs": [
    {
     "data": {
      "text/html": [
       "<div style=\"max-height:1000px;max-width:1500px;overflow:auto;\">\n",
       "<table border=\"1\" class=\"dataframe\">\n",
       "  <thead>\n",
       "    <tr style=\"text-align: right;\">\n",
       "      <th></th>\n",
       "      <th>estado</th>\n",
       "      <th>POB1</th>\n",
       "      <th>geometry</th>\n",
       "      <th>cvegeo</th>\n",
       "      <th>2006</th>\n",
       "      <th>2007</th>\n",
       "      <th>2008</th>\n",
       "      <th>2009</th>\n",
       "      <th>2010</th>\n",
       "      <th>2011</th>\n",
       "      <th>2012</th>\n",
       "      <th>2013</th>\n",
       "      <th>2014</th>\n",
       "    </tr>\n",
       "  </thead>\n",
       "  <tbody>\n",
       "    <tr>\n",
       "      <th>0</th>\n",
       "      <td>       Aguascalientes</td>\n",
       "      <td> 1184996</td>\n",
       "      <td> POLYGON ((-102.2878651817759 22.41649003941765...</td>\n",
       "      <td> 1001</td>\n",
       "      <td> 0</td>\n",
       "      <td> 25</td>\n",
       "      <td>   7</td>\n",
       "      <td>  20</td>\n",
       "      <td>  18</td>\n",
       "      <td>  30</td>\n",
       "      <td>  14</td>\n",
       "      <td>  15</td>\n",
       "      <td>  62</td>\n",
       "    </tr>\n",
       "    <tr>\n",
       "      <th>1</th>\n",
       "      <td>      Baja California</td>\n",
       "      <td> 3155070</td>\n",
       "      <td> (POLYGON ((-115.2104851485454 28.3722493563768...</td>\n",
       "      <td> 2001</td>\n",
       "      <td> 0</td>\n",
       "      <td>  7</td>\n",
       "      <td>  25</td>\n",
       "      <td>  11</td>\n",
       "      <td>   8</td>\n",
       "      <td>  19</td>\n",
       "      <td> 128</td>\n",
       "      <td> 177</td>\n",
       "      <td> 381</td>\n",
       "    </tr>\n",
       "    <tr>\n",
       "      <th>2</th>\n",
       "      <td>  Baja California Sur</td>\n",
       "      <td>  637026</td>\n",
       "      <td> (POLYGON ((-109.8006324469839 24.1492608586424...</td>\n",
       "      <td> 3001</td>\n",
       "      <td> 0</td>\n",
       "      <td>  0</td>\n",
       "      <td>   2</td>\n",
       "      <td>   1</td>\n",
       "      <td>   3</td>\n",
       "      <td>   2</td>\n",
       "      <td>   3</td>\n",
       "      <td>   8</td>\n",
       "      <td>   3</td>\n",
       "    </tr>\n",
       "    <tr>\n",
       "      <th>3</th>\n",
       "      <td>             Campeche</td>\n",
       "      <td>  822441</td>\n",
       "      <td> POLYGON ((-90.37935699678101 20.84832728853007...</td>\n",
       "      <td> 4001</td>\n",
       "      <td> 0</td>\n",
       "      <td>  0</td>\n",
       "      <td>   5</td>\n",
       "      <td>   0</td>\n",
       "      <td>   1</td>\n",
       "      <td>   0</td>\n",
       "      <td>   0</td>\n",
       "      <td>  10</td>\n",
       "      <td>  59</td>\n",
       "    </tr>\n",
       "    <tr>\n",
       "      <th>4</th>\n",
       "      <td> Coahuila de Zaragoza</td>\n",
       "      <td> 2748391</td>\n",
       "      <td> POLYGON ((-102.3107926469074 29.87694857356086...</td>\n",
       "      <td> 5001</td>\n",
       "      <td> 1</td>\n",
       "      <td> 55</td>\n",
       "      <td> 102</td>\n",
       "      <td> 117</td>\n",
       "      <td> 227</td>\n",
       "      <td> 258</td>\n",
       "      <td> 136</td>\n",
       "      <td> 233</td>\n",
       "      <td> 103</td>\n",
       "    </tr>\n",
       "  </tbody>\n",
       "</table>\n",
       "</div>"
      ],
      "text/plain": [
       "                 estado     POB1  \\\n",
       "0        Aguascalientes  1184996   \n",
       "1       Baja California  3155070   \n",
       "2   Baja California Sur   637026   \n",
       "3              Campeche   822441   \n",
       "4  Coahuila de Zaragoza  2748391   \n",
       "\n",
       "                                            geometry  cvegeo  2006  2007  \\\n",
       "0  POLYGON ((-102.2878651817759 22.41649003941765...    1001     0    25   \n",
       "1  (POLYGON ((-115.2104851485454 28.3722493563768...    2001     0     7   \n",
       "2  (POLYGON ((-109.8006324469839 24.1492608586424...    3001     0     0   \n",
       "3  POLYGON ((-90.37935699678101 20.84832728853007...    4001     0     0   \n",
       "4  POLYGON ((-102.3107926469074 29.87694857356086...    5001     1    55   \n",
       "\n",
       "   2008  2009  2010  2011  2012  2013  2014  \n",
       "0     7    20    18    30    14    15    62  \n",
       "1    25    11     8    19   128   177   381  \n",
       "2     2     1     3     2     3     8     3  \n",
       "3     5     0     1     0     0    10    59  \n",
       "4   102   117   227   258   136   233   103  "
      ]
     },
     "execution_count": 12,
     "metadata": {},
     "output_type": "execute_result"
    }
   ],
   "source": [
    "des_estado = pd.merge(gf,estado_tiempo, on='estado')\n",
    "des_estado = GeoDataFrame(des_estado)\n",
    "des_estado.head()"
   ]
  },
  {
   "cell_type": "markdown",
   "metadata": {},
   "source": [
    "Antes de guardar el resultado como shape necesitamos renombrar las columnas de los años porque son enteros y no strings.\n",
    "\n"
   ]
  },
  {
   "cell_type": "code",
   "execution_count": 14,
   "metadata": {
    "collapsed": false
   },
   "outputs": [],
   "source": [
    "des_estado = des_estado.rename(columns={2006:'2006',2007:'2007',2008:'2008',2009:'2009',2010:'2010',2011:'2011',2012:'2012',2013:'2013',2014:'2014'})\n"
   ]
  },
  {
   "cell_type": "markdown",
   "metadata": {},
   "source": [
    "Guardamos el resultado como shapefile para leerlo con clusterpy"
   ]
  },
  {
   "cell_type": "code",
   "execution_count": 15,
   "metadata": {
    "collapsed": false
   },
   "outputs": [],
   "source": [
    "des_estado.to_file('data/desaparecidos_estatal',encoding='utf-8')"
   ]
  },
  {
   "cell_type": "code",
   "execution_count": 18,
   "metadata": {
    "collapsed": false
   },
   "outputs": [],
   "source": [
    "for c in des_estado.columns:\n",
    "    print des_estado[c].dtype\n",
    "    "
   ]
  },
  {
   "cell_type": "code",
   "execution_count": null,
   "metadata": {
    "collapsed": true
   },
   "outputs": [],
   "source": []
  }
 ],
 "metadata": {
  "kernelspec": {
   "display_name": "Python 2",
   "language": "python",
   "name": "python2"
  },
  "language_info": {
   "codemirror_mode": {
    "name": "ipython",
    "version": 2
   },
   "file_extension": ".py",
   "mimetype": "text/x-python",
   "name": "python",
   "nbconvert_exporter": "python",
   "pygments_lexer": "ipython2",
   "version": "2.7.6"
  }
 },
 "nbformat": 4,
 "nbformat_minor": 0
}

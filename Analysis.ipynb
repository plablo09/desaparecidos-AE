{
 "cells": [
  {
   "cell_type": "markdown",
   "metadata": {},
   "source": [
    "Leemos los datos del csv"
   ]
  },
  {
   "cell_type": "code",
   "execution_count": 1,
   "metadata": {
    "collapsed": false
   },
   "outputs": [],
   "source": [
    "import sys\n",
    "reload(sys)\n",
    "sys.setdefaultencoding(\"utf-8\")"
   ]
  },
  {
   "cell_type": "code",
   "execution_count": 2,
   "metadata": {
    "collapsed": false
   },
   "outputs": [],
   "source": [
    "import pandas as pd\n",
    "df = pd.read_csv('data/desaparecidos.csv',header=0,names=['estado','municipio','cvegeo','year','total','tasa'], encoding='utf-8')"
   ]
  },
  {
   "cell_type": "markdown",
   "metadata": {},
   "source": [
    "Agrupamos y quitamos los índices de las columnas estado y year para poder usarlas en el pivot:"
   ]
  },
  {
   "cell_type": "code",
   "execution_count": 3,
   "metadata": {
    "collapsed": false
   },
   "outputs": [
    {
     "data": {
      "text/html": [
       "<div style=\"max-height:1000px;max-width:1500px;overflow:auto;\">\n",
       "<table border=\"1\" class=\"dataframe\">\n",
       "  <thead>\n",
       "    <tr style=\"text-align: right;\">\n",
       "      <th></th>\n",
       "      <th>estado</th>\n",
       "      <th>year</th>\n",
       "      <th>cvegeo</th>\n",
       "      <th>total</th>\n",
       "      <th>tasa</th>\n",
       "    </tr>\n",
       "  </thead>\n",
       "  <tbody>\n",
       "    <tr>\n",
       "      <th>0</th>\n",
       "      <td>Aguascalientes</td>\n",
       "      <td>2006</td>\n",
       "      <td>11066</td>\n",
       "      <td>0</td>\n",
       "      <td>0.000000</td>\n",
       "    </tr>\n",
       "    <tr>\n",
       "      <th>1</th>\n",
       "      <td>Aguascalientes</td>\n",
       "      <td>2007</td>\n",
       "      <td>11066</td>\n",
       "      <td>25</td>\n",
       "      <td>24.059914</td>\n",
       "    </tr>\n",
       "    <tr>\n",
       "      <th>2</th>\n",
       "      <td>Aguascalientes</td>\n",
       "      <td>2008</td>\n",
       "      <td>11066</td>\n",
       "      <td>7</td>\n",
       "      <td>3.226498</td>\n",
       "    </tr>\n",
       "    <tr>\n",
       "      <th>3</th>\n",
       "      <td>Aguascalientes</td>\n",
       "      <td>2009</td>\n",
       "      <td>11066</td>\n",
       "      <td>20</td>\n",
       "      <td>3.495144</td>\n",
       "    </tr>\n",
       "    <tr>\n",
       "      <th>4</th>\n",
       "      <td>Aguascalientes</td>\n",
       "      <td>2010</td>\n",
       "      <td>11066</td>\n",
       "      <td>18</td>\n",
       "      <td>7.733581</td>\n",
       "    </tr>\n",
       "  </tbody>\n",
       "</table>\n",
       "</div>"
      ],
      "text/plain": [
       "           estado  year  cvegeo  total       tasa\n",
       "0  Aguascalientes  2006   11066      0   0.000000\n",
       "1  Aguascalientes  2007   11066     25  24.059914\n",
       "2  Aguascalientes  2008   11066      7   3.226498\n",
       "3  Aguascalientes  2009   11066     20   3.495144\n",
       "4  Aguascalientes  2010   11066     18   7.733581"
      ]
     },
     "execution_count": 3,
     "metadata": {},
     "output_type": "execute_result"
    }
   ],
   "source": [
    "df.groupby(['estado','year']).sum().reset_index('year').reset_index('estado').head()"
   ]
  },
  {
   "cell_type": "markdown",
   "metadata": {},
   "source": [
    "Creamos la pivot table para tener los años en columnas:"
   ]
  },
  {
   "cell_type": "code",
   "execution_count": 4,
   "metadata": {
    "collapsed": false
   },
   "outputs": [
    {
     "data": {
      "text/html": [
       "<div style=\"max-height:1000px;max-width:1500px;overflow:auto;\">\n",
       "<table border=\"1\" class=\"dataframe\">\n",
       "  <thead>\n",
       "    <tr style=\"text-align: right;\">\n",
       "      <th>year</th>\n",
       "      <th>2006</th>\n",
       "      <th>2007</th>\n",
       "      <th>2008</th>\n",
       "      <th>2009</th>\n",
       "      <th>2010</th>\n",
       "      <th>2011</th>\n",
       "      <th>2012</th>\n",
       "      <th>2013</th>\n",
       "      <th>2014</th>\n",
       "    </tr>\n",
       "    <tr>\n",
       "      <th>estado</th>\n",
       "      <th></th>\n",
       "      <th></th>\n",
       "      <th></th>\n",
       "      <th></th>\n",
       "      <th></th>\n",
       "      <th></th>\n",
       "      <th></th>\n",
       "      <th></th>\n",
       "      <th></th>\n",
       "    </tr>\n",
       "  </thead>\n",
       "  <tbody>\n",
       "    <tr>\n",
       "      <th>Tamaulipas</th>\n",
       "      <td>15</td>\n",
       "      <td>76</td>\n",
       "      <td>66</td>\n",
       "      <td>207</td>\n",
       "      <td>901</td>\n",
       "      <td>1227</td>\n",
       "      <td>1071</td>\n",
       "      <td>761</td>\n",
       "      <td>831</td>\n",
       "    </tr>\n",
       "    <tr>\n",
       "      <th>Tlaxcala</th>\n",
       "      <td>0</td>\n",
       "      <td>0</td>\n",
       "      <td>0</td>\n",
       "      <td>2</td>\n",
       "      <td>0</td>\n",
       "      <td>1</td>\n",
       "      <td>2</td>\n",
       "      <td>6</td>\n",
       "      <td>3</td>\n",
       "    </tr>\n",
       "    <tr>\n",
       "      <th>Veracruz de Ignacio de la Llave</th>\n",
       "      <td>2</td>\n",
       "      <td>3</td>\n",
       "      <td>2</td>\n",
       "      <td>1</td>\n",
       "      <td>22</td>\n",
       "      <td>59</td>\n",
       "      <td>45</td>\n",
       "      <td>115</td>\n",
       "      <td>211</td>\n",
       "    </tr>\n",
       "    <tr>\n",
       "      <th>Yucatán</th>\n",
       "      <td>0</td>\n",
       "      <td>1</td>\n",
       "      <td>1</td>\n",
       "      <td>2</td>\n",
       "      <td>4</td>\n",
       "      <td>6</td>\n",
       "      <td>10</td>\n",
       "      <td>30</td>\n",
       "      <td>29</td>\n",
       "    </tr>\n",
       "    <tr>\n",
       "      <th>Zacatecas</th>\n",
       "      <td>0</td>\n",
       "      <td>1</td>\n",
       "      <td>6</td>\n",
       "      <td>24</td>\n",
       "      <td>30</td>\n",
       "      <td>34</td>\n",
       "      <td>16</td>\n",
       "      <td>46</td>\n",
       "      <td>32</td>\n",
       "    </tr>\n",
       "  </tbody>\n",
       "</table>\n",
       "</div>"
      ],
      "text/plain": [
       "year                             2006  2007  2008  2009  2010  2011  2012  \\\n",
       "estado                                                                      \n",
       "Tamaulipas                         15    76    66   207   901  1227  1071   \n",
       "Tlaxcala                            0     0     0     2     0     1     2   \n",
       "Veracruz de Ignacio de la Llave     2     3     2     1    22    59    45   \n",
       "Yucatán                             0     1     1     2     4     6    10   \n",
       "Zacatecas                           0     1     6    24    30    34    16   \n",
       "\n",
       "year                             2013  2014  \n",
       "estado                                       \n",
       "Tamaulipas                        761   831  \n",
       "Tlaxcala                            6     3  \n",
       "Veracruz de Ignacio de la Llave   115   211  \n",
       "Yucatán                            30    29  \n",
       "Zacatecas                          46    32  "
      ]
     },
     "execution_count": 4,
     "metadata": {},
     "output_type": "execute_result"
    }
   ],
   "source": [
    "tmp = df.groupby(['estado','year']).sum().reset_index('year').reset_index('estado')\n",
    "estado_tiempo = tmp.pivot(index='estado',columns='year',values='total')\n",
    "estado_tiempo.tail()"
   ]
  },
  {
   "cell_type": "markdown",
   "metadata": {},
   "source": [
    "En la maniobra perdimos las claves cvegeo que luego vamos a necesitar para unirlo a las geometrías. Recuperémoslas:"
   ]
  },
  {
   "cell_type": "code",
   "execution_count": 5,
   "metadata": {
    "collapsed": false
   },
   "outputs": [
    {
     "data": {
      "text/html": [
       "<div style=\"max-height:1000px;max-width:1500px;overflow:auto;\">\n",
       "<table border=\"1\" class=\"dataframe\">\n",
       "  <thead>\n",
       "    <tr style=\"text-align: right;\">\n",
       "      <th></th>\n",
       "      <th>cvegeo</th>\n",
       "    </tr>\n",
       "    <tr>\n",
       "      <th>estado</th>\n",
       "      <th></th>\n",
       "    </tr>\n",
       "  </thead>\n",
       "  <tbody>\n",
       "    <tr>\n",
       "      <th>Tamaulipas</th>\n",
       "      <td>28001</td>\n",
       "    </tr>\n",
       "    <tr>\n",
       "      <th>Tlaxcala</th>\n",
       "      <td>29001</td>\n",
       "    </tr>\n",
       "    <tr>\n",
       "      <th>Veracruz de Ignacio de la Llave</th>\n",
       "      <td>30001</td>\n",
       "    </tr>\n",
       "    <tr>\n",
       "      <th>Yucatán</th>\n",
       "      <td>31001</td>\n",
       "    </tr>\n",
       "    <tr>\n",
       "      <th>Zacatecas</th>\n",
       "      <td>32001</td>\n",
       "    </tr>\n",
       "  </tbody>\n",
       "</table>\n",
       "</div>"
      ],
      "text/plain": [
       "                                 cvegeo\n",
       "estado                                 \n",
       "Tamaulipas                        28001\n",
       "Tlaxcala                          29001\n",
       "Veracruz de Ignacio de la Llave   30001\n",
       "Yucatán                           31001\n",
       "Zacatecas                         32001"
      ]
     },
     "execution_count": 5,
     "metadata": {},
     "output_type": "execute_result"
    }
   ],
   "source": [
    "cve_estado = df[['estado','cvegeo']].groupby('estado').first()\n",
    "cve_estado.tail()"
   ]
  },
  {
   "cell_type": "markdown",
   "metadata": {},
   "source": [
    "Además tenemos que reindexar las tablas para poder usar los valores de las columnas 'estado' como llaves en la unión:"
   ]
  },
  {
   "cell_type": "code",
   "execution_count": 6,
   "metadata": {
    "collapsed": true
   },
   "outputs": [],
   "source": [
    "cve_estado = cve_estado.reset_index('estado')\n",
    "estado_tiempo = estado_tiempo.reset_index('estado')"
   ]
  },
  {
   "cell_type": "markdown",
   "metadata": {},
   "source": [
    "Ahora si unimos:"
   ]
  },
  {
   "cell_type": "code",
   "execution_count": 7,
   "metadata": {
    "collapsed": false
   },
   "outputs": [
    {
     "data": {
      "text/html": [
       "<div style=\"max-height:1000px;max-width:1500px;overflow:auto;\">\n",
       "<table border=\"1\" class=\"dataframe\">\n",
       "  <thead>\n",
       "    <tr style=\"text-align: right;\">\n",
       "      <th></th>\n",
       "      <th>estado</th>\n",
       "      <th>cvegeo</th>\n",
       "      <th>2006</th>\n",
       "      <th>2007</th>\n",
       "      <th>2008</th>\n",
       "      <th>2009</th>\n",
       "      <th>2010</th>\n",
       "      <th>2011</th>\n",
       "      <th>2012</th>\n",
       "      <th>2013</th>\n",
       "      <th>2014</th>\n",
       "    </tr>\n",
       "  </thead>\n",
       "  <tbody>\n",
       "    <tr>\n",
       "      <th>0</th>\n",
       "      <td>Aguascalientes</td>\n",
       "      <td>1001</td>\n",
       "      <td>0</td>\n",
       "      <td>25</td>\n",
       "      <td>7</td>\n",
       "      <td>20</td>\n",
       "      <td>18</td>\n",
       "      <td>30</td>\n",
       "      <td>14</td>\n",
       "      <td>15</td>\n",
       "      <td>62</td>\n",
       "    </tr>\n",
       "    <tr>\n",
       "      <th>1</th>\n",
       "      <td>Baja California</td>\n",
       "      <td>2001</td>\n",
       "      <td>0</td>\n",
       "      <td>7</td>\n",
       "      <td>25</td>\n",
       "      <td>11</td>\n",
       "      <td>8</td>\n",
       "      <td>19</td>\n",
       "      <td>128</td>\n",
       "      <td>177</td>\n",
       "      <td>381</td>\n",
       "    </tr>\n",
       "    <tr>\n",
       "      <th>2</th>\n",
       "      <td>Baja California Sur</td>\n",
       "      <td>3001</td>\n",
       "      <td>0</td>\n",
       "      <td>0</td>\n",
       "      <td>2</td>\n",
       "      <td>1</td>\n",
       "      <td>3</td>\n",
       "      <td>2</td>\n",
       "      <td>3</td>\n",
       "      <td>8</td>\n",
       "      <td>3</td>\n",
       "    </tr>\n",
       "    <tr>\n",
       "      <th>3</th>\n",
       "      <td>Campeche</td>\n",
       "      <td>4001</td>\n",
       "      <td>0</td>\n",
       "      <td>0</td>\n",
       "      <td>5</td>\n",
       "      <td>0</td>\n",
       "      <td>1</td>\n",
       "      <td>0</td>\n",
       "      <td>0</td>\n",
       "      <td>10</td>\n",
       "      <td>59</td>\n",
       "    </tr>\n",
       "    <tr>\n",
       "      <th>4</th>\n",
       "      <td>Chiapas</td>\n",
       "      <td>7001</td>\n",
       "      <td>0</td>\n",
       "      <td>0</td>\n",
       "      <td>0</td>\n",
       "      <td>5</td>\n",
       "      <td>6</td>\n",
       "      <td>9</td>\n",
       "      <td>12</td>\n",
       "      <td>31</td>\n",
       "      <td>41</td>\n",
       "    </tr>\n",
       "  </tbody>\n",
       "</table>\n",
       "</div>"
      ],
      "text/plain": [
       "                estado  cvegeo  2006  2007  2008  2009  2010  2011  2012  \\\n",
       "0       Aguascalientes    1001     0    25     7    20    18    30    14   \n",
       "1      Baja California    2001     0     7    25    11     8    19   128   \n",
       "2  Baja California Sur    3001     0     0     2     1     3     2     3   \n",
       "3             Campeche    4001     0     0     5     0     1     0     0   \n",
       "4              Chiapas    7001     0     0     0     5     6     9    12   \n",
       "\n",
       "   2013  2014  \n",
       "0    15    62  \n",
       "1   177   381  \n",
       "2     8     3  \n",
       "3    10    59  \n",
       "4    31    41  "
      ]
     },
     "execution_count": 7,
     "metadata": {},
     "output_type": "execute_result"
    }
   ],
   "source": [
    "estado_tiempo = pd.merge(cve_estado,estado_tiempo, on='estado')\n",
    "estado_tiempo.head()"
   ]
  },
  {
   "cell_type": "markdown",
   "metadata": {},
   "source": [
    "Ahora leemos el shapefile con las geometrías de los estados:"
   ]
  },
  {
   "cell_type": "code",
   "execution_count": 8,
   "metadata": {
    "collapsed": false
   },
   "outputs": [
    {
     "data": {
      "text/plain": [
       "Index([u'CVEGEO', u'NOMBRE', u'OID', u'POB1', u'POB10', u'POB10_R', u'POB11', u'POB11_R', u'POB12', u'POB12_R', u'POB13', u'POB13_R', u'POB14', u'POB14_R', u'POB15', u'POB15_R', u'POB16', u'POB16_R', u'POB17', u'POB17_R', u'POB18', u'POB18_R', u'POB19', u'POB19_R', u'POB2', u'POB20', u'POB20_R', u'POB21', u'POB21_R', u'POB22', u'POB22_R', u'POB23', u'POB23_R', u'POB24', u'POB24_R', u'POB25', u'POB25_R', u'POB26_R', u'POB27_R', u'POB28_R', u'POB29_R', u'POB2_R', u'POB3', u'POB30_R', u'POB31', u'POB31_R', u'POB32', u'POB32_R', u'POB33', u'POB33_R', u'POB34', u'POB34_R', u'POB35', u'POB35_R', u'POB36', u'POB36_R', u'POB37', u'POB37_R', u'POB38', u'POB38_R', u'POB39', u'POB39_R', u'POB3_R', u'POB4', u'POB40', u'POB40_R', u'POB41', u'POB41_R', u'POB42', u'POB42_R', u'POB43', u'POB43_R', u'POB44', u'POB44_R', u'POB45', u'POB45_R', u'POB46', u'POB46_R', u'POB47', u'POB47_R', u'POB48', u'POB48_R', u'POB49', u'POB49_R', u'POB4_R', u'POB5', u'POB50', u'POB50_R', u'POB51', u'POB51_R', u'POB52', u'POB52_R', u'POB53', u'POB53_R', u'POB54', u'POB54_R', u'POB55', u'POB55_R', u'POB56', u'POB56_R', ...], dtype='object')"
      ]
     },
     "execution_count": 8,
     "metadata": {},
     "output_type": "execute_result"
    }
   ],
   "source": [
    "from geopandas import GeoDataFrame\n",
    "gf = GeoDataFrame.from_file('data/mexico_entidad.shp', encoding='utf-8')\n",
    "gf.columns"
   ]
  },
  {
   "cell_type": "markdown",
   "metadata": {},
   "source": [
    "Sólo queremos las columnas CVEGEO, POB1 y geometry:"
   ]
  },
  {
   "cell_type": "code",
   "execution_count": 10,
   "metadata": {
    "collapsed": false
   },
   "outputs": [
    {
     "data": {
      "text/html": [
       "<div style=\"max-height:1000px;max-width:1500px;overflow:auto;\">\n",
       "<table border=\"1\" class=\"dataframe\">\n",
       "  <thead>\n",
       "    <tr style=\"text-align: right;\">\n",
       "      <th></th>\n",
       "      <th>POB1</th>\n",
       "      <th>CVEGEO</th>\n",
       "      <th>geometry</th>\n",
       "    </tr>\n",
       "  </thead>\n",
       "  <tbody>\n",
       "    <tr>\n",
       "      <th>27</th>\n",
       "      <td>2748391</td>\n",
       "      <td>05</td>\n",
       "      <td>POLYGON ((2469954.193300001 1978522.9934, 2469...</td>\n",
       "    </tr>\n",
       "    <tr>\n",
       "      <th>28</th>\n",
       "      <td>650555</td>\n",
       "      <td>06</td>\n",
       "      <td>(POLYGON ((1158658.7249 767185.3242000006, 115...</td>\n",
       "    </tr>\n",
       "    <tr>\n",
       "      <th>29</th>\n",
       "      <td>4796580</td>\n",
       "      <td>07</td>\n",
       "      <td>POLYGON ((3560747.32 695090.7327000014, 356114...</td>\n",
       "    </tr>\n",
       "    <tr>\n",
       "      <th>30</th>\n",
       "      <td>3406465</td>\n",
       "      <td>08</td>\n",
       "      <td>POLYGON ((1961651.183200002 2201097.236400001,...</td>\n",
       "    </tr>\n",
       "    <tr>\n",
       "      <th>31</th>\n",
       "      <td>8851080</td>\n",
       "      <td>09</td>\n",
       "      <td>POLYGON ((2802175.6602 843326.7184000015, 2801...</td>\n",
       "    </tr>\n",
       "  </tbody>\n",
       "</table>\n",
       "</div>"
      ],
      "text/plain": [
       "       POB1 CVEGEO                                           geometry\n",
       "27  2748391     05  POLYGON ((2469954.193300001 1978522.9934, 2469...\n",
       "28   650555     06  (POLYGON ((1158658.7249 767185.3242000006, 115...\n",
       "29  4796580     07  POLYGON ((3560747.32 695090.7327000014, 356114...\n",
       "30  3406465     08  POLYGON ((1961651.183200002 2201097.236400001,...\n",
       "31  8851080     09  POLYGON ((2802175.6602 843326.7184000015, 2801..."
      ]
     },
     "execution_count": 10,
     "metadata": {},
     "output_type": "execute_result"
    }
   ],
   "source": [
    "gf[['POB1','CVEGEO','geometry']].tail()"
   ]
  },
  {
   "cell_type": "markdown",
   "metadata": {},
   "source": [
    "Trístemente las cvegeo no coinciden, tendremos que intentar unir por nombre. \n",
    "Nos quedamos con las columnas necesarias del shape y renombramos la columna nombre para usarla como llave común:"
   ]
  },
  {
   "cell_type": "code",
   "execution_count": 11,
   "metadata": {
    "collapsed": false
   },
   "outputs": [
    {
     "data": {
      "text/plain": [
       "Index([u'estado', u'POB1', u'geometry'], dtype='object')"
      ]
     },
     "execution_count": 11,
     "metadata": {},
     "output_type": "execute_result"
    }
   ],
   "source": [
    "gf = gf[['NOMBRE','POB1','geometry']]\n",
    "gf = gf.rename(columns = {'NOMBRE':'estado'})\n",
    "gf.columns"
   ]
  },
  {
   "cell_type": "markdown",
   "metadata": {},
   "source": [
    "Unimos los dos conjuntos de datos y lo casteamos a GeoDataFrame:"
   ]
  },
  {
   "cell_type": "code",
   "execution_count": 12,
   "metadata": {
    "collapsed": false,
    "scrolled": true
   },
   "outputs": [
    {
     "data": {
      "text/html": [
       "<div style=\"max-height:1000px;max-width:1500px;overflow:auto;\">\n",
       "<table border=\"1\" class=\"dataframe\">\n",
       "  <thead>\n",
       "    <tr style=\"text-align: right;\">\n",
       "      <th></th>\n",
       "      <th>estado</th>\n",
       "      <th>POB1</th>\n",
       "      <th>geometry</th>\n",
       "      <th>cvegeo</th>\n",
       "      <th>2006</th>\n",
       "      <th>2007</th>\n",
       "      <th>2008</th>\n",
       "      <th>2009</th>\n",
       "      <th>2010</th>\n",
       "      <th>2011</th>\n",
       "      <th>2012</th>\n",
       "      <th>2013</th>\n",
       "      <th>2014</th>\n",
       "    </tr>\n",
       "  </thead>\n",
       "  <tbody>\n",
       "    <tr>\n",
       "      <th>0</th>\n",
       "      <td>Aguascalientes</td>\n",
       "      <td>1184996</td>\n",
       "      <td>POLYGON ((2470517.824100003 1155028.587099999,...</td>\n",
       "      <td>1001</td>\n",
       "      <td>0</td>\n",
       "      <td>25</td>\n",
       "      <td>7</td>\n",
       "      <td>20</td>\n",
       "      <td>18</td>\n",
       "      <td>30</td>\n",
       "      <td>14</td>\n",
       "      <td>15</td>\n",
       "      <td>62</td>\n",
       "    </tr>\n",
       "    <tr>\n",
       "      <th>1</th>\n",
       "      <td>Durango</td>\n",
       "      <td>1632934</td>\n",
       "      <td>POLYGON ((2107050.444499999 1641943.398400001,...</td>\n",
       "      <td>10001</td>\n",
       "      <td>2</td>\n",
       "      <td>13</td>\n",
       "      <td>19</td>\n",
       "      <td>39</td>\n",
       "      <td>151</td>\n",
       "      <td>61</td>\n",
       "      <td>45</td>\n",
       "      <td>21</td>\n",
       "      <td>19</td>\n",
       "    </tr>\n",
       "    <tr>\n",
       "      <th>2</th>\n",
       "      <td>Guanajuato</td>\n",
       "      <td>5486372</td>\n",
       "      <td>POLYGON ((2566856.637900002 1091418.135699999,...</td>\n",
       "      <td>11001</td>\n",
       "      <td>5</td>\n",
       "      <td>89</td>\n",
       "      <td>56</td>\n",
       "      <td>88</td>\n",
       "      <td>41</td>\n",
       "      <td>129</td>\n",
       "      <td>108</td>\n",
       "      <td>190</td>\n",
       "      <td>371</td>\n",
       "    </tr>\n",
       "    <tr>\n",
       "      <th>3</th>\n",
       "      <td>Guerrero</td>\n",
       "      <td>3388768</td>\n",
       "      <td>(POLYGON ((2723198.210000001 539350.5295999981...</td>\n",
       "      <td>12001</td>\n",
       "      <td>3</td>\n",
       "      <td>16</td>\n",
       "      <td>15</td>\n",
       "      <td>8</td>\n",
       "      <td>18</td>\n",
       "      <td>38</td>\n",
       "      <td>48</td>\n",
       "      <td>114</td>\n",
       "      <td>248</td>\n",
       "    </tr>\n",
       "    <tr>\n",
       "      <th>4</th>\n",
       "      <td>Hidalgo</td>\n",
       "      <td>2665018</td>\n",
       "      <td>POLYGON ((2862894.734499998 1047165.223700002,...</td>\n",
       "      <td>13001</td>\n",
       "      <td>3</td>\n",
       "      <td>10</td>\n",
       "      <td>17</td>\n",
       "      <td>28</td>\n",
       "      <td>27</td>\n",
       "      <td>97</td>\n",
       "      <td>34</td>\n",
       "      <td>16</td>\n",
       "      <td>2</td>\n",
       "    </tr>\n",
       "  </tbody>\n",
       "</table>\n",
       "</div>"
      ],
      "text/plain": [
       "           estado     POB1                                           geometry  \\\n",
       "0  Aguascalientes  1184996  POLYGON ((2470517.824100003 1155028.587099999,...   \n",
       "1         Durango  1632934  POLYGON ((2107050.444499999 1641943.398400001,...   \n",
       "2      Guanajuato  5486372  POLYGON ((2566856.637900002 1091418.135699999,...   \n",
       "3        Guerrero  3388768  (POLYGON ((2723198.210000001 539350.5295999981...   \n",
       "4         Hidalgo  2665018  POLYGON ((2862894.734499998 1047165.223700002,...   \n",
       "\n",
       "   cvegeo  2006  2007  2008  2009  2010  2011  2012  2013  2014  \n",
       "0    1001     0    25     7    20    18    30    14    15    62  \n",
       "1   10001     2    13    19    39   151    61    45    21    19  \n",
       "2   11001     5    89    56    88    41   129   108   190   371  \n",
       "3   12001     3    16    15     8    18    38    48   114   248  \n",
       "4   13001     3    10    17    28    27    97    34    16     2  "
      ]
     },
     "execution_count": 12,
     "metadata": {},
     "output_type": "execute_result"
    }
   ],
   "source": [
    "des_estado = pd.merge(gf,estado_tiempo, on='estado')\n",
    "des_estado = GeoDataFrame(des_estado)\n",
    "des_estado.head()"
   ]
  },
  {
   "cell_type": "markdown",
   "metadata": {},
   "source": [
    "Necesitamos darle valor a la proyección"
   ]
  },
  {
   "cell_type": "code",
   "execution_count": 15,
   "metadata": {
    "collapsed": false
   },
   "outputs": [
    {
     "data": {
      "text/plain": [
       "{'init': u'epsg:4326'}"
      ]
     },
     "execution_count": 15,
     "metadata": {},
     "output_type": "execute_result"
    }
   ],
   "source": [
    "gf.crs"
   ]
  },
  {
   "cell_type": "markdown",
   "metadata": {},
   "source": [
    "Antes de guardar el resultado como shape necesitamos renombrar las columnas de los años porque son enteros y no strings.\n",
    "\n"
   ]
  },
  {
   "cell_type": "code",
   "execution_count": 13,
   "metadata": {
    "collapsed": false
   },
   "outputs": [],
   "source": [
    "des_estado = des_estado.rename(columns={2006:'2006',2007:'2007',2008:'2008',2009:'2009',2010:'2010',2011:'2011',2012:'2012',2013:'2013',2014:'2014'})\n"
   ]
  },
  {
   "cell_type": "markdown",
   "metadata": {},
   "source": [
    "Guardamos el resultado como shapefile para leerlo con clusterpy"
   ]
  },
  {
   "cell_type": "code",
   "execution_count": 14,
   "metadata": {
    "collapsed": false
   },
   "outputs": [],
   "source": [
    "des_estado.to_file('data/desaparecidos_estatal',encoding='utf-8')"
   ]
  },
  {
   "cell_type": "code",
   "execution_count": 18,
   "metadata": {
    "collapsed": false
   },
   "outputs": [],
   "source": [
    "for c in des_estado.columns:\n",
    "    print des_estado[c].dtype\n",
    "    "
   ]
  },
  {
   "cell_type": "code",
   "execution_count": null,
   "metadata": {
    "collapsed": true
   },
   "outputs": [],
   "source": []
  }
 ],
 "metadata": {
  "kernelspec": {
   "display_name": "Python 2",
   "language": "python",
   "name": "python2"
  },
  "language_info": {
   "codemirror_mode": {
    "name": "ipython",
    "version": 2
   },
   "file_extension": ".py",
   "mimetype": "text/x-python",
   "name": "python",
   "nbconvert_exporter": "python",
   "pygments_lexer": "ipython2",
   "version": "2.7.6"
  }
 },
 "nbformat": 4,
 "nbformat_minor": 0
}
